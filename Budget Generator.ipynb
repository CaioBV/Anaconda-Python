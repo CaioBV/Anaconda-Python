{
 "cells": [
  {
   "cell_type": "markdown",
   "id": "47df2137",
   "metadata": {},
   "source": [
    "# My first python code"
   ]
  },
  {
   "cell_type": "markdown",
   "id": "cfd68ae7",
   "metadata": {},
   "source": [
    "# Data Input"
   ]
  },
  {
   "cell_type": "code",
   "execution_count": 1,
   "id": "80d496c6",
   "metadata": {},
   "outputs": [
    {
     "name": "stdout",
     "output_type": "stream",
     "text": [
      "Enter the project description: Web development\n",
      "Enter total estimated hours: 100\n",
      "Enter the amount of hours worked: 200\n",
      "Enter de estimated time: 3 months\n"
     ]
    },
    {
     "data": {
      "text/plain": [
       "'3 months'"
      ]
     },
     "execution_count": 1,
     "metadata": {},
     "output_type": "execute_result"
    }
   ],
   "source": [
    "input(\"Enter the project description: \")\n",
    "input(\"Enter total estimated hours: \")\n",
    "input(\"Enter the amount of hours worked: \")\n",
    "input(\"Enter de estimated time: \")"
   ]
  },
  {
   "cell_type": "markdown",
   "id": "13693b74",
   "metadata": {},
   "source": [
    "# Recording data (variables)\n",
    "- cannot start with number\n",
    "- cannot have space\n",
    "- cannot be a Python reserved word"
   ]
  },
  {
   "cell_type": "code",
   "execution_count": 2,
   "id": "57571987",
   "metadata": {},
   "outputs": [
    {
     "name": "stdout",
     "output_type": "stream",
     "text": [
      "Enter the project description: Web Development\n",
      "Enter total estimated hours: 100\n",
      "Enter the amount of hours worked: 200\n",
      "Enter de estimated time: 3 months\n"
     ]
    }
   ],
   "source": [
    "project = input(\"Enter the project description: \")\n",
    "estimated_hours = input(\"Enter total estimated hours: \")\n",
    "hour_value = input(\"Enter the amount of hours worked: \")\n",
    "term = input(\"Enter de estimated time: \")"
   ]
  },
  {
   "cell_type": "markdown",
   "id": "4a46dc34",
   "metadata": {},
   "source": [
    "# Calculations"
   ]
  },
  {
   "cell_type": "markdown",
   "id": "c6047b1c",
   "metadata": {},
   "source": [
    "## Data type"
   ]
  },
  {
   "cell_type": "code",
   "execution_count": 7,
   "id": "45f53fb1",
   "metadata": {},
   "outputs": [],
   "source": [
    "total_value = int(estimated_hours) * int(hour_value)"
   ]
  },
  {
   "cell_type": "code",
   "execution_count": 8,
   "id": "d6e688c4",
   "metadata": {},
   "outputs": [
    {
     "name": "stdout",
     "output_type": "stream",
     "text": [
      "20000\n"
     ]
    }
   ],
   "source": [
    "print(total_value)"
   ]
  },
  {
   "cell_type": "markdown",
   "id": "537f16c8",
   "metadata": {},
   "source": [
    "# PDF genaretor"
   ]
  },
  {
   "cell_type": "code",
   "execution_count": 9,
   "id": "c1cdea32",
   "metadata": {},
   "outputs": [
    {
     "name": "stdout",
     "output_type": "stream",
     "text": [
      "Requirement already satisfied: fpdf in c:\\users\\asus caio\\anaconda3\\lib\\site-packages (1.7.2)\n"
     ]
    }
   ],
   "source": [
    "!pip install fpdf"
   ]
  },
  {
   "cell_type": "code",
   "execution_count": 10,
   "id": "19ed93f5",
   "metadata": {},
   "outputs": [],
   "source": [
    "from fpdf import FPDF"
   ]
  },
  {
   "cell_type": "code",
   "execution_count": 11,
   "id": "503d0514",
   "metadata": {},
   "outputs": [
    {
     "name": "stdout",
     "output_type": "stream",
     "text": [
      "Sucessfully generated budget\n"
     ]
    }
   ],
   "source": [
    "pdf = FPDF()\n",
    "\n",
    "pdf.add_page()\n",
    "pdf.set_font(\"Arial\")\n",
    "pdf.image(\"template.png\", x=0, y=0)\n",
    "\n",
    "pdf.text(115, 145, project)\n",
    "pdf.text(115, 160, estimated_hours)\n",
    "pdf.text(115, 175, hour_value)\n",
    "pdf.text(115, 190, term)\n",
    "pdf.text(115, 205, str(total_value))\n",
    "\n",
    "\n",
    "pdf.output(\"Budget.pdf\")\n",
    "print (\"Sucessfully generated budget\")"
   ]
  }
 ],
 "metadata": {
  "kernelspec": {
   "display_name": "Python 3 (ipykernel)",
   "language": "python",
   "name": "python3"
  },
  "language_info": {
   "codemirror_mode": {
    "name": "ipython",
    "version": 3
   },
   "file_extension": ".py",
   "mimetype": "text/x-python",
   "name": "python",
   "nbconvert_exporter": "python",
   "pygments_lexer": "ipython3",
   "version": "3.10.9"
  }
 },
 "nbformat": 4,
 "nbformat_minor": 5
}
