{
 "cells": [
  {
   "cell_type": "markdown",
   "id": "a9b15450",
   "metadata": {},
   "source": [
    "# Task Automation"
   ]
  },
  {
   "cell_type": "code",
   "execution_count": 1,
   "id": "d81dff14",
   "metadata": {},
   "outputs": [
    {
     "name": "stdout",
     "output_type": "stream",
     "text": [
      "Requirement already satisfied: yfinance in c:\\users\\asus caio\\anaconda3\\lib\\site-packages (0.2.18)\n",
      "Requirement already satisfied: appdirs>=1.4.4 in c:\\users\\asus caio\\anaconda3\\lib\\site-packages (from yfinance) (1.4.4)\n",
      "Requirement already satisfied: numpy>=1.16.5 in c:\\users\\asus caio\\anaconda3\\lib\\site-packages (from yfinance) (1.23.5)\n",
      "Requirement already satisfied: html5lib>=1.1 in c:\\users\\asus caio\\anaconda3\\lib\\site-packages (from yfinance) (1.1)\n",
      "Requirement already satisfied: pandas>=1.3.0 in c:\\users\\asus caio\\anaconda3\\lib\\site-packages (from yfinance) (1.5.3)\n",
      "Requirement already satisfied: multitasking>=0.0.7 in c:\\users\\asus caio\\anaconda3\\lib\\site-packages (from yfinance) (0.0.11)\n",
      "Requirement already satisfied: lxml>=4.9.1 in c:\\users\\asus caio\\anaconda3\\lib\\site-packages (from yfinance) (4.9.1)\n",
      "Requirement already satisfied: pytz>=2022.5 in c:\\users\\asus caio\\anaconda3\\lib\\site-packages (from yfinance) (2022.7)\n",
      "Requirement already satisfied: beautifulsoup4>=4.11.1 in c:\\users\\asus caio\\anaconda3\\lib\\site-packages (from yfinance) (4.11.1)\n",
      "Requirement already satisfied: cryptography>=3.3.2 in c:\\users\\asus caio\\anaconda3\\lib\\site-packages (from yfinance) (39.0.1)\n",
      "Requirement already satisfied: requests>=2.26 in c:\\users\\asus caio\\anaconda3\\lib\\site-packages (from yfinance) (2.28.1)\n",
      "Requirement already satisfied: frozendict>=2.3.4 in c:\\users\\asus caio\\anaconda3\\lib\\site-packages (from yfinance) (2.3.8)\n",
      "Requirement already satisfied: soupsieve>1.2 in c:\\users\\asus caio\\anaconda3\\lib\\site-packages (from beautifulsoup4>=4.11.1->yfinance) (2.3.2.post1)\n",
      "Requirement already satisfied: cffi>=1.12 in c:\\users\\asus caio\\anaconda3\\lib\\site-packages (from cryptography>=3.3.2->yfinance) (1.15.1)\n",
      "Requirement already satisfied: webencodings in c:\\users\\asus caio\\anaconda3\\lib\\site-packages (from html5lib>=1.1->yfinance) (0.5.1)\n",
      "Requirement already satisfied: six>=1.9 in c:\\users\\asus caio\\anaconda3\\lib\\site-packages (from html5lib>=1.1->yfinance) (1.16.0)\n",
      "Requirement already satisfied: python-dateutil>=2.8.1 in c:\\users\\asus caio\\anaconda3\\lib\\site-packages (from pandas>=1.3.0->yfinance) (2.8.2)\n",
      "Requirement already satisfied: idna<4,>=2.5 in c:\\users\\asus caio\\anaconda3\\lib\\site-packages (from requests>=2.26->yfinance) (3.4)\n",
      "Requirement already satisfied: charset-normalizer<3,>=2 in c:\\users\\asus caio\\anaconda3\\lib\\site-packages (from requests>=2.26->yfinance) (2.0.4)\n",
      "Requirement already satisfied: urllib3<1.27,>=1.21.1 in c:\\users\\asus caio\\anaconda3\\lib\\site-packages (from requests>=2.26->yfinance) (1.26.14)\n",
      "Requirement already satisfied: certifi>=2017.4.17 in c:\\users\\asus caio\\anaconda3\\lib\\site-packages (from requests>=2.26->yfinance) (2022.12.7)\n",
      "Requirement already satisfied: pycparser in c:\\users\\asus caio\\anaconda3\\lib\\site-packages (from cffi>=1.12->cryptography>=3.3.2->yfinance) (2.21)\n"
     ]
    }
   ],
   "source": [
    "!pip install yfinance"
   ]
  },
  {
   "cell_type": "code",
   "execution_count": 11,
   "id": "1af2ebce",
   "metadata": {},
   "outputs": [
    {
     "name": "stdout",
     "output_type": "stream",
     "text": [
      "enter the share stock code:  VALE3.SA\n"
     ]
    },
    {
     "data": {
      "text/html": [
       "<div>\n",
       "<style scoped>\n",
       "    .dataframe tbody tr th:only-of-type {\n",
       "        vertical-align: middle;\n",
       "    }\n",
       "\n",
       "    .dataframe tbody tr th {\n",
       "        vertical-align: top;\n",
       "    }\n",
       "\n",
       "    .dataframe thead th {\n",
       "        text-align: right;\n",
       "    }\n",
       "</style>\n",
       "<table border=\"1\" class=\"dataframe\">\n",
       "  <thead>\n",
       "    <tr style=\"text-align: right;\">\n",
       "      <th></th>\n",
       "      <th>Open</th>\n",
       "      <th>High</th>\n",
       "      <th>Low</th>\n",
       "      <th>Close</th>\n",
       "      <th>Volume</th>\n",
       "      <th>Dividends</th>\n",
       "      <th>Stock Splits</th>\n",
       "    </tr>\n",
       "    <tr>\n",
       "      <th>Date</th>\n",
       "      <th></th>\n",
       "      <th></th>\n",
       "      <th></th>\n",
       "      <th></th>\n",
       "      <th></th>\n",
       "      <th></th>\n",
       "      <th></th>\n",
       "    </tr>\n",
       "  </thead>\n",
       "  <tbody>\n",
       "    <tr>\n",
       "      <th>2023-01-05 00:00:00-03:00</th>\n",
       "      <td>87.537582</td>\n",
       "      <td>89.709877</td>\n",
       "      <td>87.087468</td>\n",
       "      <td>88.946640</td>\n",
       "      <td>29085600</td>\n",
       "      <td>0.0</td>\n",
       "      <td>0.0</td>\n",
       "    </tr>\n",
       "    <tr>\n",
       "      <th>2023-01-06 00:00:00-03:00</th>\n",
       "      <td>89.044497</td>\n",
       "      <td>90.747104</td>\n",
       "      <td>89.044497</td>\n",
       "      <td>90.355698</td>\n",
       "      <td>31420600</td>\n",
       "      <td>0.0</td>\n",
       "      <td>0.0</td>\n",
       "    </tr>\n",
       "    <tr>\n",
       "      <th>2023-01-09 00:00:00-03:00</th>\n",
       "      <td>89.563104</td>\n",
       "      <td>90.991729</td>\n",
       "      <td>89.289122</td>\n",
       "      <td>90.453552</td>\n",
       "      <td>19285800</td>\n",
       "      <td>0.0</td>\n",
       "      <td>0.0</td>\n",
       "    </tr>\n",
       "    <tr>\n",
       "      <th>2023-01-10 00:00:00-03:00</th>\n",
       "      <td>90.502473</td>\n",
       "      <td>91.882177</td>\n",
       "      <td>90.355695</td>\n",
       "      <td>91.569054</td>\n",
       "      <td>19821100</td>\n",
       "      <td>0.0</td>\n",
       "      <td>0.0</td>\n",
       "    </tr>\n",
       "    <tr>\n",
       "      <th>2023-01-11 00:00:00-03:00</th>\n",
       "      <td>91.970235</td>\n",
       "      <td>92.449711</td>\n",
       "      <td>90.277416</td>\n",
       "      <td>91.246140</td>\n",
       "      <td>23834100</td>\n",
       "      <td>0.0</td>\n",
       "      <td>0.0</td>\n",
       "    </tr>\n",
       "    <tr>\n",
       "      <th>...</th>\n",
       "      <td>...</td>\n",
       "      <td>...</td>\n",
       "      <td>...</td>\n",
       "      <td>...</td>\n",
       "      <td>...</td>\n",
       "      <td>...</td>\n",
       "      <td>...</td>\n",
       "    </tr>\n",
       "    <tr>\n",
       "      <th>2023-05-30 00:00:00-03:00</th>\n",
       "      <td>66.320000</td>\n",
       "      <td>66.320000</td>\n",
       "      <td>63.869999</td>\n",
       "      <td>64.279999</td>\n",
       "      <td>39920700</td>\n",
       "      <td>0.0</td>\n",
       "      <td>0.0</td>\n",
       "    </tr>\n",
       "    <tr>\n",
       "      <th>2023-05-31 00:00:00-03:00</th>\n",
       "      <td>64.279999</td>\n",
       "      <td>64.870003</td>\n",
       "      <td>63.509998</td>\n",
       "      <td>63.810001</td>\n",
       "      <td>103408900</td>\n",
       "      <td>0.0</td>\n",
       "      <td>0.0</td>\n",
       "    </tr>\n",
       "    <tr>\n",
       "      <th>2023-06-01 00:00:00-03:00</th>\n",
       "      <td>64.940002</td>\n",
       "      <td>65.769997</td>\n",
       "      <td>64.150002</td>\n",
       "      <td>65.160004</td>\n",
       "      <td>51982400</td>\n",
       "      <td>0.0</td>\n",
       "      <td>0.0</td>\n",
       "    </tr>\n",
       "    <tr>\n",
       "      <th>2023-06-02 00:00:00-03:00</th>\n",
       "      <td>68.000000</td>\n",
       "      <td>68.199997</td>\n",
       "      <td>67.370003</td>\n",
       "      <td>67.940002</td>\n",
       "      <td>39185700</td>\n",
       "      <td>0.0</td>\n",
       "      <td>0.0</td>\n",
       "    </tr>\n",
       "    <tr>\n",
       "      <th>2023-06-05 00:00:00-03:00</th>\n",
       "      <td>68.470001</td>\n",
       "      <td>68.480003</td>\n",
       "      <td>66.629997</td>\n",
       "      <td>67.230003</td>\n",
       "      <td>17191300</td>\n",
       "      <td>0.0</td>\n",
       "      <td>0.0</td>\n",
       "    </tr>\n",
       "  </tbody>\n",
       "</table>\n",
       "<p>103 rows × 7 columns</p>\n",
       "</div>"
      ],
      "text/plain": [
       "                                Open       High        Low      Close  \\\n",
       "Date                                                                    \n",
       "2023-01-05 00:00:00-03:00  87.537582  89.709877  87.087468  88.946640   \n",
       "2023-01-06 00:00:00-03:00  89.044497  90.747104  89.044497  90.355698   \n",
       "2023-01-09 00:00:00-03:00  89.563104  90.991729  89.289122  90.453552   \n",
       "2023-01-10 00:00:00-03:00  90.502473  91.882177  90.355695  91.569054   \n",
       "2023-01-11 00:00:00-03:00  91.970235  92.449711  90.277416  91.246140   \n",
       "...                              ...        ...        ...        ...   \n",
       "2023-05-30 00:00:00-03:00  66.320000  66.320000  63.869999  64.279999   \n",
       "2023-05-31 00:00:00-03:00  64.279999  64.870003  63.509998  63.810001   \n",
       "2023-06-01 00:00:00-03:00  64.940002  65.769997  64.150002  65.160004   \n",
       "2023-06-02 00:00:00-03:00  68.000000  68.199997  67.370003  67.940002   \n",
       "2023-06-05 00:00:00-03:00  68.470001  68.480003  66.629997  67.230003   \n",
       "\n",
       "                              Volume  Dividends  Stock Splits  \n",
       "Date                                                           \n",
       "2023-01-05 00:00:00-03:00   29085600        0.0           0.0  \n",
       "2023-01-06 00:00:00-03:00   31420600        0.0           0.0  \n",
       "2023-01-09 00:00:00-03:00   19285800        0.0           0.0  \n",
       "2023-01-10 00:00:00-03:00   19821100        0.0           0.0  \n",
       "2023-01-11 00:00:00-03:00   23834100        0.0           0.0  \n",
       "...                              ...        ...           ...  \n",
       "2023-05-30 00:00:00-03:00   39920700        0.0           0.0  \n",
       "2023-05-31 00:00:00-03:00  103408900        0.0           0.0  \n",
       "2023-06-01 00:00:00-03:00   51982400        0.0           0.0  \n",
       "2023-06-02 00:00:00-03:00   39185700        0.0           0.0  \n",
       "2023-06-05 00:00:00-03:00   17191300        0.0           0.0  \n",
       "\n",
       "[103 rows x 7 columns]"
      ]
     },
     "execution_count": 11,
     "metadata": {},
     "output_type": "execute_result"
    }
   ],
   "source": [
    "import yfinance as yf\n",
    "\n",
    "ticker = input(\"enter the share stock code:  \")\n",
    "data = yf.Ticker(ticker)\n",
    "data.history(\"5mo\")"
   ]
  },
  {
   "cell_type": "code",
   "execution_count": 13,
   "id": "763ce0d4",
   "metadata": {},
   "outputs": [
    {
     "data": {
      "text/html": [
       "<div>\n",
       "<style scoped>\n",
       "    .dataframe tbody tr th:only-of-type {\n",
       "        vertical-align: middle;\n",
       "    }\n",
       "\n",
       "    .dataframe tbody tr th {\n",
       "        vertical-align: top;\n",
       "    }\n",
       "\n",
       "    .dataframe thead th {\n",
       "        text-align: right;\n",
       "    }\n",
       "</style>\n",
       "<table border=\"1\" class=\"dataframe\">\n",
       "  <thead>\n",
       "    <tr style=\"text-align: right;\">\n",
       "      <th></th>\n",
       "      <th>Open</th>\n",
       "      <th>High</th>\n",
       "      <th>Low</th>\n",
       "      <th>Close</th>\n",
       "      <th>Volume</th>\n",
       "      <th>Dividends</th>\n",
       "      <th>Stock Splits</th>\n",
       "    </tr>\n",
       "    <tr>\n",
       "      <th>Date</th>\n",
       "      <th></th>\n",
       "      <th></th>\n",
       "      <th></th>\n",
       "      <th></th>\n",
       "      <th></th>\n",
       "      <th></th>\n",
       "      <th></th>\n",
       "    </tr>\n",
       "  </thead>\n",
       "  <tbody>\n",
       "    <tr>\n",
       "      <th>2021-06-07 00:00:00-03:00</th>\n",
       "      <td>88.989696</td>\n",
       "      <td>89.346610</td>\n",
       "      <td>87.799994</td>\n",
       "      <td>88.672447</td>\n",
       "      <td>22746100</td>\n",
       "      <td>0.0</td>\n",
       "      <td>0.0</td>\n",
       "    </tr>\n",
       "    <tr>\n",
       "      <th>2021-06-08 00:00:00-03:00</th>\n",
       "      <td>89.211795</td>\n",
       "      <td>89.441799</td>\n",
       "      <td>87.006875</td>\n",
       "      <td>87.181366</td>\n",
       "      <td>22676500</td>\n",
       "      <td>0.0</td>\n",
       "      <td>0.0</td>\n",
       "    </tr>\n",
       "    <tr>\n",
       "      <th>2021-06-09 00:00:00-03:00</th>\n",
       "      <td>87.244814</td>\n",
       "      <td>89.893881</td>\n",
       "      <td>86.610304</td>\n",
       "      <td>88.989708</td>\n",
       "      <td>22517600</td>\n",
       "      <td>0.0</td>\n",
       "      <td>0.0</td>\n",
       "    </tr>\n",
       "    <tr>\n",
       "      <th>2021-06-10 00:00:00-03:00</th>\n",
       "      <td>89.005565</td>\n",
       "      <td>89.917671</td>\n",
       "      <td>88.069666</td>\n",
       "      <td>88.696243</td>\n",
       "      <td>30750900</td>\n",
       "      <td>0.0</td>\n",
       "      <td>0.0</td>\n",
       "    </tr>\n",
       "    <tr>\n",
       "      <th>2021-06-11 00:00:00-03:00</th>\n",
       "      <td>89.901810</td>\n",
       "      <td>91.020133</td>\n",
       "      <td>89.640074</td>\n",
       "      <td>90.687012</td>\n",
       "      <td>18359200</td>\n",
       "      <td>0.0</td>\n",
       "      <td>0.0</td>\n",
       "    </tr>\n",
       "    <tr>\n",
       "      <th>...</th>\n",
       "      <td>...</td>\n",
       "      <td>...</td>\n",
       "      <td>...</td>\n",
       "      <td>...</td>\n",
       "      <td>...</td>\n",
       "      <td>...</td>\n",
       "      <td>...</td>\n",
       "    </tr>\n",
       "    <tr>\n",
       "      <th>2023-05-30 00:00:00-03:00</th>\n",
       "      <td>66.320000</td>\n",
       "      <td>66.320000</td>\n",
       "      <td>63.869999</td>\n",
       "      <td>64.279999</td>\n",
       "      <td>39920700</td>\n",
       "      <td>0.0</td>\n",
       "      <td>0.0</td>\n",
       "    </tr>\n",
       "    <tr>\n",
       "      <th>2023-05-31 00:00:00-03:00</th>\n",
       "      <td>64.279999</td>\n",
       "      <td>64.870003</td>\n",
       "      <td>63.509998</td>\n",
       "      <td>63.810001</td>\n",
       "      <td>103408900</td>\n",
       "      <td>0.0</td>\n",
       "      <td>0.0</td>\n",
       "    </tr>\n",
       "    <tr>\n",
       "      <th>2023-06-01 00:00:00-03:00</th>\n",
       "      <td>64.940002</td>\n",
       "      <td>65.769997</td>\n",
       "      <td>64.150002</td>\n",
       "      <td>65.160004</td>\n",
       "      <td>51982400</td>\n",
       "      <td>0.0</td>\n",
       "      <td>0.0</td>\n",
       "    </tr>\n",
       "    <tr>\n",
       "      <th>2023-06-02 00:00:00-03:00</th>\n",
       "      <td>68.000000</td>\n",
       "      <td>68.199997</td>\n",
       "      <td>67.370003</td>\n",
       "      <td>67.940002</td>\n",
       "      <td>39185700</td>\n",
       "      <td>0.0</td>\n",
       "      <td>0.0</td>\n",
       "    </tr>\n",
       "    <tr>\n",
       "      <th>2023-06-05 00:00:00-03:00</th>\n",
       "      <td>68.470001</td>\n",
       "      <td>68.480003</td>\n",
       "      <td>66.629997</td>\n",
       "      <td>67.239998</td>\n",
       "      <td>17199000</td>\n",
       "      <td>0.0</td>\n",
       "      <td>0.0</td>\n",
       "    </tr>\n",
       "  </tbody>\n",
       "</table>\n",
       "<p>499 rows × 7 columns</p>\n",
       "</div>"
      ],
      "text/plain": [
       "                                Open       High        Low      Close  \\\n",
       "Date                                                                    \n",
       "2021-06-07 00:00:00-03:00  88.989696  89.346610  87.799994  88.672447   \n",
       "2021-06-08 00:00:00-03:00  89.211795  89.441799  87.006875  87.181366   \n",
       "2021-06-09 00:00:00-03:00  87.244814  89.893881  86.610304  88.989708   \n",
       "2021-06-10 00:00:00-03:00  89.005565  89.917671  88.069666  88.696243   \n",
       "2021-06-11 00:00:00-03:00  89.901810  91.020133  89.640074  90.687012   \n",
       "...                              ...        ...        ...        ...   \n",
       "2023-05-30 00:00:00-03:00  66.320000  66.320000  63.869999  64.279999   \n",
       "2023-05-31 00:00:00-03:00  64.279999  64.870003  63.509998  63.810001   \n",
       "2023-06-01 00:00:00-03:00  64.940002  65.769997  64.150002  65.160004   \n",
       "2023-06-02 00:00:00-03:00  68.000000  68.199997  67.370003  67.940002   \n",
       "2023-06-05 00:00:00-03:00  68.470001  68.480003  66.629997  67.239998   \n",
       "\n",
       "                              Volume  Dividends  Stock Splits  \n",
       "Date                                                           \n",
       "2021-06-07 00:00:00-03:00   22746100        0.0           0.0  \n",
       "2021-06-08 00:00:00-03:00   22676500        0.0           0.0  \n",
       "2021-06-09 00:00:00-03:00   22517600        0.0           0.0  \n",
       "2021-06-10 00:00:00-03:00   30750900        0.0           0.0  \n",
       "2021-06-11 00:00:00-03:00   18359200        0.0           0.0  \n",
       "...                              ...        ...           ...  \n",
       "2023-05-30 00:00:00-03:00   39920700        0.0           0.0  \n",
       "2023-05-31 00:00:00-03:00  103408900        0.0           0.0  \n",
       "2023-06-01 00:00:00-03:00   51982400        0.0           0.0  \n",
       "2023-06-02 00:00:00-03:00   39185700        0.0           0.0  \n",
       "2023-06-05 00:00:00-03:00   17199000        0.0           0.0  \n",
       "\n",
       "[499 rows x 7 columns]"
      ]
     },
     "execution_count": 13,
     "metadata": {},
     "output_type": "execute_result"
    }
   ],
   "source": [
    "spreadsheet = dados.history(\"2y\")\n",
    "spreadsheet"
   ]
  },
  {
   "cell_type": "code",
   "execution_count": 10,
   "id": "8d017b9c",
   "metadata": {},
   "outputs": [
    {
     "data": {
      "text/plain": [
       "Date\n",
       "2022-12-05 00:00:00-03:00    84.558891\n",
       "2022-12-06 00:00:00-03:00    85.787636\n",
       "2022-12-07 00:00:00-03:00    82.735275\n",
       "2022-12-08 00:00:00-03:00    83.749474\n",
       "2022-12-09 00:00:00-03:00    86.538521\n",
       "                               ...    \n",
       "2023-05-30 00:00:00-03:00    64.279999\n",
       "2023-05-31 00:00:00-03:00    63.810001\n",
       "2023-06-01 00:00:00-03:00    65.160004\n",
       "2023-06-02 00:00:00-03:00    67.940002\n",
       "2023-06-05 00:00:00-03:00    67.279999\n",
       "Name: Close, Length: 125, dtype: float64"
      ]
     },
     "execution_count": 10,
     "metadata": {},
     "output_type": "execute_result"
    }
   ],
   "source": [
    "closure = tabela.Close\n",
    "closure"
   ]
  },
  {
   "cell_type": "code",
   "execution_count": 14,
   "id": "4ea8d4d5",
   "metadata": {},
   "outputs": [
    {
     "data": {
      "text/plain": [
       "<Axes: xlabel='Date'>"
      ]
     },
     "execution_count": 14,
     "metadata": {},
     "output_type": "execute_result"
    },
    {
     "data": {
      "image/png": "[encoded data removed]",
      "text/plain": [
       "<Figure size 640x480 with 1 Axes>"
      ]
     },
     "metadata": {},
     "output_type": "display_data"
    }
   ],
   "source": [
    "closure.plot()"
   ]
  },
  {
   "cell_type": "markdown",
   "id": "283fd6ee",
   "metadata": {},
   "source": [
    "# Generating the statistics"
   ]
  },
  {
   "cell_type": "code",
   "execution_count": 17,
   "id": "f1c67b34",
   "metadata": {},
   "outputs": [
    {
     "name": "stdout",
     "output_type": "stream",
     "text": [
      "95.89407348632812\n",
      "63.810001373291016\n",
      "67.27999877929688\n"
     ]
    }
   ],
   "source": [
    "maximun = fechamento.max()\n",
    "minimun = fechamento.min()\n",
    "current = fechamento[-1]\n",
    "\n",
    "print(maximun)\n",
    "print(minimun)\n",
    "print(current)"
   ]
  },
  {
   "cell_type": "markdown",
   "id": "16060a7a",
   "metadata": {},
   "source": [
    "# Sending e-mail automatically\n",
    "\n",
    "- Process step by step:\n",
    " - open a new tab in the browse (click + or CTRL+T);\n",
    " - type the gmail adress (www.gmail.com) and type ENTER;\n",
    " - click write;\n",
    " - enter the recipient´s e-mail adress;\n",
    " - switch to Subject field (click the field or type tab);\n",
    " - type subject;\n",
    " - switch to mais e-mail field (click on the field or type tab);\n",
    " - write the message;\n",
    " - click Send."
   ]
  },
  {
   "cell_type": "code",
   "execution_count": 20,
   "id": "fcacb93b",
   "metadata": {},
   "outputs": [
    {
     "name": "stdout",
     "output_type": "stream",
     "text": [
      "Requirement already satisfied: pyautogui in c:\\users\\asus caio\\anaconda3\\lib\\site-packages (0.9.54)\n",
      "Requirement already satisfied: pymsgbox in c:\\users\\asus caio\\anaconda3\\lib\\site-packages (from pyautogui) (1.0.9)\n",
      "Requirement already satisfied: mouseinfo in c:\\users\\asus caio\\anaconda3\\lib\\site-packages (from pyautogui) (0.1.3)\n",
      "Requirement already satisfied: pytweening>=1.0.4 in c:\\users\\asus caio\\anaconda3\\lib\\site-packages (from pyautogui) (1.0.7)\n",
      "Requirement already satisfied: pyscreeze>=0.1.21 in c:\\users\\asus caio\\anaconda3\\lib\\site-packages (from pyautogui) (0.1.29)\n",
      "Requirement already satisfied: pygetwindow>=0.0.5 in c:\\users\\asus caio\\anaconda3\\lib\\site-packages (from pyautogui) (0.0.9)\n",
      "Requirement already satisfied: pyrect in c:\\users\\asus caio\\anaconda3\\lib\\site-packages (from pygetwindow>=0.0.5->pyautogui) (0.2.0)\n",
      "Requirement already satisfied: pyscreenshot in c:\\users\\asus caio\\anaconda3\\lib\\site-packages (from pyscreeze>=0.1.21->pyautogui) (3.1)\n",
      "Requirement already satisfied: Pillow>=9.2.0 in c:\\users\\asus caio\\anaconda3\\lib\\site-packages (from pyscreeze>=0.1.21->pyautogui) (9.4.0)\n",
      "Requirement already satisfied: pyperclip in c:\\users\\asus caio\\anaconda3\\lib\\site-packages (from mouseinfo->pyautogui) (1.8.2)\n",
      "Requirement already satisfied: EasyProcess in c:\\users\\asus caio\\anaconda3\\lib\\site-packages (from pyscreenshot->pyscreeze>=0.1.21->pyautogui) (1.1)\n",
      "Requirement already satisfied: mss in c:\\users\\asus caio\\anaconda3\\lib\\site-packages (from pyscreenshot->pyscreeze>=0.1.21->pyautogui) (9.0.1)\n",
      "Requirement already satisfied: entrypoint2 in c:\\users\\asus caio\\anaconda3\\lib\\site-packages (from pyscreenshot->pyscreeze>=0.1.21->pyautogui) (1.1)\n"
     ]
    }
   ],
   "source": [
    "!pip install pyautogui"
   ]
  },
  {
   "cell_type": "code",
   "execution_count": 33,
   "id": "487ee084",
   "metadata": {},
   "outputs": [
    {
     "name": "stdout",
     "output_type": "stream",
     "text": [
      "Requirement already satisfied: pyperclip in c:\\users\\asus caio\\anaconda3\\lib\\site-packages (1.8.2)\n"
     ]
    }
   ],
   "source": [
    "!pip install pyperclip"
   ]
  },
  {
   "cell_type": "code",
   "execution_count": 34,
   "id": "0087fbc5",
   "metadata": {},
   "outputs": [],
   "source": [
    "import pyautogui\n",
    "import pyperclip"
   ]
  },
  {
   "cell_type": "markdown",
   "id": "4a9009a1",
   "metadata": {},
   "source": [
    "# Creating the e-mail that I will send"
   ]
  },
  {
   "cell_type": "code",
   "execution_count": 57,
   "id": "d75206fe",
   "metadata": {},
   "outputs": [],
   "source": [
    "recipient = \"caioventuri@yahoo.com.br\"\n",
    "subject = \"Daily analysis\"\n",
    "\n",
    "message = f\"\"\"\n",
    "Good morning,\n",
    "\n",
    "Below you can find the analysis of the stock {ticker} of the las two years:\n",
    "\n",
    "Maximun quote: R${round(maximun,2)}\n",
    "Minimun quote: R${round(minimun,2)}\n",
    "Current quote; R${round(current,2)}\n",
    "\n",
    "Sincerely\n",
    "\n",
    "Caio Venturi.\n",
    "\"\"\""
   ]
  },
  {
   "cell_type": "code",
   "execution_count": 58,
   "id": "e23948e2",
   "metadata": {
    "scrolled": true
   },
   "outputs": [
    {
     "name": "stdout",
     "output_type": "stream",
     "text": [
      "caioventuri@yahoo.com.br\n",
      "Daily analysis\n",
      "\n",
      "Good morning,\n",
      "\n",
      "Below you can find the analysis of the stock VALE3.SA of the las two years:\n",
      "\n",
      "Maximun quote: R$95.89\n",
      "Minimun quote: R$63.81\n",
      "Current quote; R$67.28\n",
      "\n",
      "Sincerely\n",
      "\n",
      "Caio Venturi.\n",
      "\n"
     ]
    }
   ],
   "source": [
    "print(recipient)\n",
    "print(subject)\n",
    "print(message)"
   ]
  },
  {
   "cell_type": "markdown",
   "id": "a1c32f8b",
   "metadata": {},
   "source": [
    "# Automating e-mail sending"
   ]
  },
  {
   "cell_type": "code",
   "execution_count": 59,
   "id": "8bb154a1",
   "metadata": {},
   "outputs": [
    {
     "name": "stdout",
     "output_type": "stream",
     "text": [
      "E-mail successfuly sent!\n"
     ]
    }
   ],
   "source": [
    "# configure a pause betwen pyautogui actions\n",
    "pyautogui.PAUSE = 3\n",
    "\n",
    "# open a new tab\n",
    "pyautogui.hotkey(\"ctrl\", \"t\")\n",
    "\n",
    "# copy the gmail adress to clipboard\n",
    "pyperclip.copy(\"www.gmail.com\")\n",
    "\n",
    "# paste the gmail adress and press ENTER\n",
    "pyautogui.hotkey(\"ctrl\", \"v\")\n",
    "pyautogui.press(\"enter\")\n",
    "\n",
    "# click on botton to write\n",
    "pyautogui.click(x=119, y=247)\n",
    "\n",
    "# filling in the recipient\n",
    "pyperclip.copy(recipient)\n",
    "pyautogui.hotkey(\"ctrl\", \"v\")\n",
    "pyautogui.press(\"tab\")\n",
    "\n",
    "# filling the subject\n",
    "pyperclip.copy(subject)\n",
    "pyautogui.hotkey(\"ctrl\", \"v\")\n",
    "pyautogui.press(\"tab\")\n",
    "\n",
    "# filling the message\n",
    "pyperclip.copy(message)\n",
    "pyautogui.hotkey(\"ctrl\", \"v\")\n",
    "\n",
    "# Clicking on botton SEND\n",
    "pyautogui.click(x=1168, y=1042)\n",
    "\n",
    "# close gmail tab\n",
    "pyautogui.hotkey(\"ctrl\", \"f4\")\n",
    "\n",
    "# print the message sent with success\n",
    "print('E-mail successfuly sent!')"
   ]
  },
  {
   "cell_type": "markdown",
   "id": "fffce8bc",
   "metadata": {},
   "source": [
    "# Code to find mouse coordinates"
   ]
  },
  {
   "cell_type": "code",
   "execution_count": 55,
   "id": "87c31db0",
   "metadata": {},
   "outputs": [
    {
     "data": {
      "text/plain": [
       "Point(x=1168, y=1042)"
      ]
     },
     "execution_count": 55,
     "metadata": {},
     "output_type": "execute_result"
    }
   ],
   "source": [
    "import time\n",
    "\n",
    "time.sleep(5)\n",
    "pyautogui.position()"
   ]
  },
  {
   "cell_type": "code",
   "execution_count": null,
   "id": "569a8b4a",
   "metadata": {},
   "outputs": [],
   "source": []
  }
 ],
 "metadata": {
  "kernelspec": {
   "display_name": "Python 3 (ipykernel)",
   "language": "python",
   "name": "python3"
  },
  "language_info": {
   "codemirror_mode": {
    "name": "ipython",
    "version": 3
   },
   "file_extension": ".py",
   "mimetype": "text/x-python",
   "name": "python",
   "nbconvert_exporter": "python",
   "pygments_lexer": "ipython3",
   "version": "3.10.9"
  }
 },
 "nbformat": 4,
 "nbformat_minor": 5
}
